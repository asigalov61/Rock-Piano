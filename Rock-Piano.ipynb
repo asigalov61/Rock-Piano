{
 "cells": [
  {
   "cell_type": "markdown",
   "id": "6f51425b",
   "metadata": {},
   "source": [
    "# Rock Piano (ver. 1.0)\n",
    "\n",
    "## \"Music comes from the heart!\" ---LU\n",
    " \n",
    "***\n",
    " \n",
    "### Powered by tegridy-tools TMIDIX Optimus Processors: https://github.com/Tegridy-Code/tegridy-tools\n",
    " \n",
    "***\n",
    " \n",
    "### Credit for GPT2-RGA code used in this colab goes out @ Sashmark97 https://github.com/Sashmark97/midigen and @ Damon Gwinn https://github.com/gwinndr/MusicTransformer-Pytorch\n",
    " \n",
    "***\n",
    " \n",
    "### WARNING: This complete implementation is a functioning model of the Artificial Intelligence. Please excercise great humility, care, and respect. https://www.nscai.gov/\n",
    " \n",
    "***\n",
    " \n",
    "#### Project Los Angeles\n",
    " \n",
    "#### Tegridy Code 2021\n",
    " \n",
    "***"
   ]
  },
  {
   "cell_type": "code",
   "execution_count": null,
   "id": "119cc4d1",
   "metadata": {},
   "outputs": [],
   "source": [
    "!nvidia-smi"
   ]
  },
  {
   "cell_type": "code",
   "execution_count": 1,
   "id": "8941f013",
   "metadata": {},
   "outputs": [
    {
     "name": "stdout",
     "output_type": "stream",
     "text": [
      "Cloning into 'Rock-Piano'...\n",
      "remote: Enumerating objects: 116, done.\u001b[K\n",
      "remote: Counting objects: 100% (116/116), done.\u001b[K\n",
      "remote: Compressing objects: 100% (108/108), done.\u001b[K\n",
      "remote: Total 116 (delta 42), reused 0 (delta 0), pack-reused 0\u001b[K\n",
      "Receiving objects: 100% (116/116), 51.11 MiB | 15.86 MiB/s, done.\n",
      "Resolving deltas: 100% (42/42), done.\n",
      "Updating files: 100% (22/22), done.\n",
      "Requirement already satisfied: tqdm in /opt/conda/lib/python3.8/site-packages (4.62.2)\n",
      "\u001b[33mWARNING: Running pip as the 'root' user can result in broken permissions and conflicting behaviour with the system package manager. It is recommended to use a virtual environment instead: https://pip.pypa.io/warnings/venv\u001b[0m\n"
     ]
    }
   ],
   "source": [
    "#@title Install all dependencies (run only once per session)\n",
    "    \n",
    "!git clone https://github.com/asigalov61/Rock-Piano    \n",
    "    \n",
    "!pip install tqdm"
   ]
  },
  {
   "cell_type": "code",
   "execution_count": 3,
   "id": "a24e54f2",
   "metadata": {},
   "outputs": [
    {
     "name": "stdout",
     "output_type": "stream",
     "text": [
      "Loading needed modules. Please wait...\n",
      "Loading TMIDIX module...\n",
      "Loading GPT2RGA module...\n",
      "Loading GPT2-RGA Module...\n",
      "GPT2-RGA loading complete!\n",
      "Enjoy!\n"
     ]
    }
   ],
   "source": [
    "print('Loading needed modules. Please wait...')\n",
    "import os\n",
    "from datetime import datetime\n",
    "import secrets\n",
    "import copy\n",
    "import tqdm\n",
    "from tqdm import tqdm\n",
    "\n",
    "os.chdir('Rock-Piano')\n",
    "\n",
    "print('Loading TMIDIX module...')\n",
    "import TMIDIX\n",
    "print('Loading GPT2RGA module...')\n",
    "from GPT2RGA import *"
   ]
  },
  {
   "cell_type": "code",
   "execution_count": 4,
   "id": "ba250ce1",
   "metadata": {},
   "outputs": [
    {
     "name": "stdout",
     "output_type": "stream",
     "text": [
      "Unzipping...\n",
      "======================================================================\n",
      "Archive:  Training-Data/Rock-Piano-Training-Data.zip\n",
      "  inflating: Rock-Piano-Training-Data.pickle  \n",
      "======================================================================\n",
      "Archive:  Rock-Piano-Trained-Model.zip\n",
      "  inflating: Rock-Piano-Trained-Model.pth  \n",
      "======================================================================\n",
      "Done!\n"
     ]
    }
   ],
   "source": [
    "# Unzip the Model and the Training Data\n",
    "\n",
    "print('Unzipping...')\n",
    "print('=' * 70)\n",
    "!unzip -j 'Training-Data/Rock-Piano-Training-Data.zip'\n",
    "\n",
    "!cat Model/Rock-Piano-Trained-Model.zip* > Rock-Piano-Trained-Model.zip\n",
    "print('=' * 70)\n",
    "\n",
    "!unzip -j Rock-Piano-Trained-Model.zip\n",
    "print('=' * 70)\n",
    "print('Done!')"
   ]
  },
  {
   "cell_type": "code",
   "execution_count": 5,
   "id": "36101e56",
   "metadata": {},
   "outputs": [
    {
     "name": "stdout",
     "output_type": "stream",
     "text": [
      "Loading the model...\n",
      "Done!\n"
     ]
    }
   ],
   "source": [
    "#@title Load/Reload the model\n",
    "full_path_to_model_checkpoint = \"Rock-Piano-Trained-Model.pth\" #@param {type:\"string\"}\n",
    "\n",
    "print('Loading the model...')\n",
    "config = GPTConfig(VOCAB_SIZE, \n",
    "                   max_seq,\n",
    "                   dim_feedforward=dim_feedforward,\n",
    "                   n_layer=6, \n",
    "                   n_head=8, \n",
    "                   n_embd=512,\n",
    "                   enable_rpr=True,\n",
    "                   er_len=max_seq)\n",
    "\n",
    "model = GPT(config).to(get_device())\n",
    "\n",
    "model.load_state_dict(torch.load(full_path_to_model_checkpoint))\n",
    "\n",
    "print('Done!')"
   ]
  },
  {
   "cell_type": "code",
   "execution_count": 7,
   "id": "dffd554c",
   "metadata": {},
   "outputs": [
    {
     "name": "stdout",
     "output_type": "stream",
     "text": [
      "Tegridy Pickle File Loader\n",
      "Loading the pickle file. Please wait...\n"
     ]
    },
    {
     "name": "stderr",
     "output_type": "stream",
     "text": [
      "100%|██████████| 3560393/3560393 [00:03<00:00, 937819.91it/s] "
     ]
    },
    {
     "name": "stdout",
     "output_type": "stream",
     "text": [
      "Done!\n"
     ]
    },
    {
     "name": "stderr",
     "output_type": "stream",
     "text": [
      "\n"
     ]
    }
   ],
   "source": [
    "# Load the Training Data for priming the model\n",
    "\n",
    "# Re-running this code will owerwrite the continuation code below\n",
    "\n",
    "# Re-run this to prime from Training Data at any time\n",
    "\n",
    "inputs = []\n",
    "\n",
    "song_ints = []\n",
    "\n",
    "data = TMIDIX.Tegridy_Any_Pickle_File_Reader('Rock-Piano-Training-Data')\n",
    "\n",
    "\n",
    "pe = data[0]\n",
    "for d in tqdm(data):\n",
    "    song_ints.extend([int(abs(d[1] - pe[1]) / 10)+33, int(d[2] / 10)+33, d[3]+33, d[4]+33, 10])\n",
    "    pe = d\n",
    "    \n",
    "print('Done!')"
   ]
  },
  {
   "cell_type": "code",
   "execution_count": 9,
   "id": "b15f4d64",
   "metadata": {},
   "outputs": [
    {
     "name": "stdout",
     "output_type": "stream",
     "text": [
      "Loading your custom MIDI...\n"
     ]
    },
    {
     "name": "stderr",
     "output_type": "stream",
     "text": [
      "100%|██████████| 582/582 [00:00<00:00, 330367.43it/s]"
     ]
    },
    {
     "name": "stdout",
     "output_type": "stream",
     "text": [
      "Done!\n"
     ]
    },
    {
     "name": "stderr",
     "output_type": "stream",
     "text": [
      "\n"
     ]
    }
   ],
   "source": [
    "# Run this code to prime with your own custom MIDI\n",
    "\n",
    "# MIDI MUST HAVE ONLY PIANO-DRUMS instruments or it may not continue the composition properly\n",
    "\n",
    "print('Loading your custom MIDI...')\n",
    "\n",
    "data = TMIDIX.Optimus_MIDI_TXT_Processor('Rock-Piano-Continuation-Seed-1.mid', \n",
    "                                         MIDI_channel=16, \n",
    "                                         musenet_encoding=True, \n",
    "                                         perfect_timings=True)\n",
    "\n",
    "\n",
    "pe = data[2][0]\n",
    "for d in tqdm(data[2]):\n",
    "    inputs.extend([int(abs(d[1] - pe[1]) / 10)+33, int(d[2] / 10)+33, d[3]+33, d[4]+33, 10])\n",
    "    pe = d\n",
    "    \n",
    "print('Done!')"
   ]
  },
  {
   "cell_type": "code",
   "execution_count": 11,
   "id": "780eb31b",
   "metadata": {},
   "outputs": [
    {
     "name": "stdout",
     "output_type": "stream",
     "text": [
      "Rock Piano Model Generator\n",
      "Generating sequence of max length: 1024\n",
      "150 / 1024\n",
      "200 / 1024\n",
      "250 / 1024\n",
      "300 / 1024\n",
      "350 / 1024\n",
      "400 / 1024\n",
      "450 / 1024\n",
      "500 / 1024\n",
      "550 / 1024\n",
      "600 / 1024\n",
      "650 / 1024\n",
      "700 / 1024\n",
      "750 / 1024\n",
      "800 / 1024\n",
      "850 / 1024\n",
      "900 / 1024\n",
      "950 / 1024\n",
      "1000 / 1024\n",
      "Converting to MIDI. Please stand-by...\n",
      "Done! Enjoy! :)\n",
      "Done!\n",
      "======================================================================\n",
      "Detailed MIDI stats:\n",
      "======================================================================\n",
      "bank_select | []\n",
      "======================================================================\n",
      "channels_by_track | [set(), {0, 9}]\n",
      "======================================================================\n",
      "channels_total | {0, 9}\n",
      "======================================================================\n",
      "general_midi_mode | []\n",
      "======================================================================\n",
      "ntracks | 2\n",
      "======================================================================\n",
      "nticks | 7610\n",
      "======================================================================\n",
      "num_notes_by_channel | {9: 133, 0: 71}\n",
      "======================================================================\n",
      "patch_changes_by_track | [{}, {0: 0, 1: 24, 2: 32, 3: 40, 4: 42, 5: 46, 6: 56, 7: 71, 8: 73, 9: 0, 10: 0, 11: 0, 12: 0, 13: 0, 14: 0, 15: 0}]\n",
      "======================================================================\n",
      "patch_changes_total | {0, 32, 71, 40, 73, 42, 46, 24, 56}\n",
      "======================================================================\n",
      "percussion | {69: 61, 51: 16, 39: 8, 38: 11, 64: 14, 36: 15, 62: 8}\n",
      "======================================================================\n",
      "pitches | {50: 4, 67: 7, 62: 17, 59: 9, 71: 1, 52: 1, 53: 1, 64: 3, 55: 7, 60: 2, 66: 3, 69: 3, 43: 5, 57: 4, 54: 4}\n",
      "======================================================================\n",
      "pitch_range_by_track | [(0, 0), (43, 71)]\n",
      "======================================================================\n",
      "pitch_range_sum | 28\n",
      "======================================================================\n",
      "ticks_per_quarter | 500\n",
      "======================================================================\n"
     ]
    }
   ],
   "source": [
    "#@title Generate Music\n",
    "\n",
    "number_of_tokens_to_generate = 1024 #@param {type:\"slider\", min:8, max:1024, step:8}\n",
    "use_random_primer = False #@param {type:\"boolean\"}\n",
    "number_of_ticks_per_quarter = 500 #@param {type:\"slider\", min:50, max:1000, step:50}\n",
    "dataset_time_denominator = 10\n",
    "melody_conditioned_encoding = False\n",
    "encoding_has_MIDI_channels = False \n",
    "encoding_has_velocities = False\n",
    "simulate_velocity = True #@param {type:\"boolean\"}\n",
    "save_only_first_composition = True\n",
    "chars_encoding_offset_used_for_dataset = 33\n",
    "\n",
    "fname = 'Rock-Piano-Composition'\n",
    "\n",
    "print('Rock Piano Model Generator')\n",
    "\n",
    "output_signature = 'Rock Piano'\n",
    "song_name = 'RGA Composition'\n",
    "\n",
    "model.eval()\n",
    "\n",
    "if use_random_primer:\n",
    "    sequence = [random.randint(10, 387) for i in range(64)]\n",
    "    idx = secrets.randbelow(len(sequence))\n",
    "    rand_seq = model.generate(torch.Tensor(sequence[idx:idx+120]), target_seq_length=number_of_tokens_to_generate)\n",
    "    out = rand_seq[0].cpu().numpy().tolist()\n",
    "\n",
    "else:\n",
    "    out = []\n",
    "  \n",
    "    #try:\n",
    "    if len(inputs) > 0:\n",
    "      rand_seq = model.generate(torch.Tensor(inputs[-128:]), target_seq_length=number_of_tokens_to_generate)\n",
    "      out = rand_seq[0].cpu().numpy().tolist()\n",
    "    else:\n",
    "      idx = secrets.randbelow(len(song_ints))\n",
    "      rand_seq = model.generate(torch.Tensor(song_ints[idx:idx+120]), target_seq_length=number_of_tokens_to_generate)\n",
    "      out = rand_seq[0].cpu().numpy().tolist()\n",
    "  \n",
    "  #except:\n",
    "    #print('=' * 50)\n",
    "    #print('Error! Try random priming instead!')\n",
    "    #print('Shutting down...')\n",
    "    #print('=' * 50)\n",
    "\n",
    "if len(out) != 0:\n",
    "  song = []\n",
    "  sng = []\n",
    "  for o in out:\n",
    "    if o != 10:\n",
    "      sng.append(o)\n",
    "    else:\n",
    "      if len(sng) == 4:\n",
    "        song.append(sng)\n",
    "      sng = []\n",
    "\n",
    "  char_offset = 33\n",
    "  song_f = []\n",
    "  time = 0\n",
    "  for s in song:\n",
    "    \n",
    "    song_f.append(['note', (abs(time)) * 10, (s[1]-char_offset) * 10, s[2]-char_offset, s[3]-char_offset, s[3]-char_offset])\n",
    "    time += (s[0] - char_offset)\n",
    "\n",
    "  detailed_stats = TMIDIX.Tegridy_SONG_to_MIDI_Converter(song_f,\n",
    "                                                        output_signature = output_signature,  \n",
    "                                                        output_file_name = fname, \n",
    "                                                        track_name=song_name, \n",
    "                                                        number_of_ticks_per_quarter=number_of_ticks_per_quarter)\n",
    "\n",
    "  print('Done!')\n",
    "\n",
    "  #print('Downloading your composition now...')\n",
    "  #from google.colab import files\n",
    "  #files.download(fname + '.mid')\n",
    "\n",
    "  print('=' * 70)\n",
    "  print('Detailed MIDI stats:')\n",
    "  for key, value in detailed_stats.items():\n",
    "        print('=' * 70)\n",
    "        print(key, '|', value)\n",
    "\n",
    "  print('=' * 70)\n",
    "\n",
    "else:\n",
    "  print('Models output is empty! Check the code...')\n",
    "  print('Shutting down...')"
   ]
  },
  {
   "cell_type": "code",
   "execution_count": null,
   "id": "f7a7b6aa",
   "metadata": {},
   "outputs": [
    {
     "name": "stdout",
     "output_type": "stream",
     "text": [
      "======================================================================\n",
      "Rock Piano Auto-Regressive Model Generator\n",
      "======================================================================\n",
      "Starting up...\n",
      "======================================================================\n",
      "Prime length: 1024\n",
      "Prime tokens: 128\n",
      "Prime input sequence [84, 10, 33, 33, 42, 102, 10, 45]\n",
      "======================================================================\n"
     ]
    },
    {
     "name": "stderr",
     "output_type": "stream",
     "text": [
      "  0%|          | 0/5 [00:00<?, ?it/s]"
     ]
    },
    {
     "name": "stdout",
     "output_type": "stream",
     "text": [
      "Generating sequence of max length: 1024\n",
      "150 / 1024\n"
     ]
    }
   ],
   "source": [
    "#@title Auto-Regressive Generator\n",
    "\n",
    "#@markdown NOTE: You much generate a seed composition first or it is not going to start\n",
    "\n",
    "number_of_cycles_to_run = 5 #@param {type:\"slider\", min:1, max:50, step:1}\n",
    "number_of_prime_tokens = 128 #@param {type:\"slider\", min:64, max:256, step:64}\n",
    "\n",
    "print('=' * 70)\n",
    "print('Rock Piano Auto-Regressive Model Generator')\n",
    "print('=' * 70)\n",
    "print('Starting up...')\n",
    "print('=' * 70)\n",
    "print('Prime length:', len(out))\n",
    "print('Prime tokens:', number_of_prime_tokens)\n",
    "print('Prime input sequence', out[-8:])\n",
    "\n",
    "if len(out) != 0:\n",
    "  print('=' * 70)\n",
    "  out_all = []\n",
    "  out_all.append(out)\n",
    "  for i in tqdm(range(number_of_cycles_to_run)):\n",
    "      rand_seq1 = model.generate(torch.Tensor(out[-number_of_prime_tokens:]), target_seq_length=1024)\n",
    "      out1 = rand_seq1[0].cpu().numpy().tolist()\n",
    "      out_all.append(out1[number_of_prime_tokens:])\n",
    "      out = out1[number_of_prime_tokens:]\n",
    "      \n",
    "      print(chr(10))\n",
    "      print('=' * 70)\n",
    "      print('Block number:', i+1)\n",
    "      print('Composition length so far:', (i+1) * 1024, 'tokens')\n",
    "      print('=' * 70)\n",
    "\n",
    "  print('Done!' * 70)\n",
    "  print('Total blocks:', i+1)\n",
    "  print('Final omposition length:', (i+1) * 1024, 'tokens')\n",
    "  print('=' * 70)\n",
    "  \n",
    "  out2 = []\n",
    "  for o in out_all:\n",
    "    out2.extend(o)\n",
    "\n",
    "  if len(out2) != 0:\n",
    "    song = []\n",
    "    sng = []\n",
    "    for o in out2:\n",
    "      if o != 10:\n",
    "        sng.append(o)\n",
    "      else:\n",
    "        if len(sng) == 4:\n",
    "          song.append(sng)\n",
    "        sng = []\n",
    "\n",
    "    char_offset = 33\n",
    "    song_f = []\n",
    "    time = 0\n",
    "    for s in song:\n",
    "      \n",
    "        song_f.append(['note', (abs(time)) * 10, (s[1]-char_offset) * 10, s[2]-char_offset, s[3]-char_offset, s[3]-char_offset])      \n",
    "        time += (s[0] - char_offset)\n",
    "\n",
    "    song_name = 'Auto-Regressive RGA Composition'\n",
    "\n",
    "    detailed_stats = TMIDIX.Tegridy_SONG_to_MIDI_Converter(song_f,\n",
    "                                                          output_signature = output_signature,  \n",
    "                                                          output_file_name = fname, \n",
    "                                                          track_name=song_name, \n",
    "                                                          number_of_ticks_per_quarter=number_of_ticks_per_quarter)\n",
    "\n",
    "    print('Done!')\n",
    "\n",
    "    #print('Downloading your composition now...')\n",
    "    #from google.colab import files\n",
    "    #files.download(fname + '.mid')\n",
    "\n",
    "    print('=' * 70)\n",
    "    print('Detailed MIDI stats:')\n",
    "    for key, value in detailed_stats.items():\n",
    "          print('=' * 70)\n",
    "          print(key, '|', value)\n",
    "\n",
    "    print('=' * 70)\n",
    "\n",
    "else:\n",
    "  print('=' * 70)\n",
    "  print('INPUT ERROR !!!')\n",
    "  print('Prime sequence is empty...')\n",
    "  print('Please generate prime sequence and retry')\n",
    "\n",
    "print('=' * 70)"
   ]
  },
  {
   "cell_type": "markdown",
   "id": "dd026117",
   "metadata": {},
   "source": [
    "# Congrats! :) You did it! :)"
   ]
  }
 ],
 "metadata": {
  "kernelspec": {
   "display_name": "Python 3 (ipykernel)",
   "language": "python",
   "name": "python3"
  },
  "language_info": {
   "codemirror_mode": {
    "name": "ipython",
    "version": 3
   },
   "file_extension": ".py",
   "mimetype": "text/x-python",
   "name": "python",
   "nbconvert_exporter": "python",
   "pygments_lexer": "ipython3",
   "version": "3.8.10"
  }
 },
 "nbformat": 4,
 "nbformat_minor": 5
}
